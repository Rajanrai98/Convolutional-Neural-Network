{
 "cells": [
  {
   "cell_type": "code",
   "execution_count": 19,
   "id": "1cce7a9c",
   "metadata": {},
   "outputs": [],
   "source": [
    "from tensorflow.keras.utils import load_img\n",
    "from tensorflow.keras.utils import img_to_array\n",
    "from keras.applications.vgg16 import preprocess_input\n",
    "from keras.applications.vgg16 import decode_predictions\n",
    "from keras.applications.vgg16 import VGG16\n",
    "from matplotlib import pyplot\n",
    "import matplotlib.pyplot as plt"
   ]
  },
  {
   "cell_type": "code",
   "execution_count": 5,
   "id": "3cd3efc1",
   "metadata": {},
   "outputs": [
    {
     "name": "stdout",
     "output_type": "stream",
     "text": [
      "Downloading data from https://storage.googleapis.com/tensorflow/keras-applications/vgg16/vgg16_weights_tf_dim_ordering_tf_kernels.h5\n",
      "553467096/553467096 [==============================] - 95s 0us/step\n"
     ]
    }
   ],
   "source": [
    "model = VGG16()"
   ]
  },
  {
   "cell_type": "code",
   "execution_count": 6,
   "id": "1878b4e5",
   "metadata": {},
   "outputs": [],
   "source": [
    "image = load_img('mug.jpg',target_size = (224,224))"
   ]
  },
  {
   "cell_type": "code",
   "execution_count": null,
   "id": "7cb60363",
   "metadata": {},
   "outputs": [],
   "source": []
  },
  {
   "cell_type": "code",
   "execution_count": 7,
   "id": "ba8eb350",
   "metadata": {},
   "outputs": [],
   "source": [
    "image = img_to_array(image)"
   ]
  },
  {
   "cell_type": "code",
   "execution_count": 8,
   "id": "a80aba54",
   "metadata": {},
   "outputs": [],
   "source": [
    "image = image.reshape((1,image.shape[0],image.shape[1],image.shape[2]))"
   ]
  },
  {
   "cell_type": "code",
   "execution_count": 9,
   "id": "fbe40daf",
   "metadata": {},
   "outputs": [],
   "source": [
    "image = preprocess_input(image)"
   ]
  },
  {
   "cell_type": "code",
   "execution_count": 11,
   "id": "1553c028",
   "metadata": {},
   "outputs": [
    {
     "name": "stdout",
     "output_type": "stream",
     "text": [
      "1/1 [==============================] - 1s 617ms/step\n"
     ]
    }
   ],
   "source": [
    "y_predict = model.predict(image)"
   ]
  },
  {
   "cell_type": "code",
   "execution_count": 12,
   "id": "cc7d0af0",
   "metadata": {},
   "outputs": [
    {
     "name": "stdout",
     "output_type": "stream",
     "text": [
      "Downloading data from https://storage.googleapis.com/download.tensorflow.org/data/imagenet_class_index.json\n",
      "35363/35363 [==============================] - 0s 1us/step\n"
     ]
    }
   ],
   "source": [
    "label = decode_predictions(y_predict)"
   ]
  },
  {
   "cell_type": "code",
   "execution_count": 13,
   "id": "552fa415",
   "metadata": {},
   "outputs": [],
   "source": [
    "label = label[0][0]"
   ]
  },
  {
   "cell_type": "code",
   "execution_count": 14,
   "id": "ac86e556",
   "metadata": {},
   "outputs": [
    {
     "name": "stdout",
     "output_type": "stream",
     "text": [
      "measuring_cup (73.56%)\n"
     ]
    }
   ],
   "source": [
    "#print the classification\n",
    "print('%s (%.2f%%)'%(label[1],label[2]*100))"
   ]
  },
  {
   "cell_type": "code",
   "execution_count": null,
   "id": "a64783fe",
   "metadata": {},
   "outputs": [],
   "source": []
  }
 ],
 "metadata": {
  "kernelspec": {
   "display_name": "Python 3 (ipykernel)",
   "language": "python",
   "name": "python3"
  },
  "language_info": {
   "codemirror_mode": {
    "name": "ipython",
    "version": 3
   },
   "file_extension": ".py",
   "mimetype": "text/x-python",
   "name": "python",
   "nbconvert_exporter": "python",
   "pygments_lexer": "ipython3",
   "version": "3.10.9"
  }
 },
 "nbformat": 4,
 "nbformat_minor": 5
}
